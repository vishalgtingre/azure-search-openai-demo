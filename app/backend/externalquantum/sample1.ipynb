{
 "cells": [
  {
   "cell_type": "code",
   "execution_count": null,
   "metadata": {},
   "outputs": [],
   "source": [
    "import yfinance as yf\n",
    "import numpy as np\n",
    "from itertools import product\n",
    "import json\n",
    "import random \n",
    "import numpy as np\n",
    "import pandas as pd\n",
    "from pandas_datareader.data import DataReader\n",
    "from dimod import Integer, Binary\n",
    "from dimod import quicksum \n",
    "from dimod import ConstrainedQuadraticModel\n",
    "import yfinance as yf\n",
    "from dwave.system import LeapHybridDQMSampler, LeapHybridCQMSampler \n",
    "import matplotlib.pyplot as plt"
   ]
  },
  {
   "cell_type": "code",
   "execution_count": null,
   "metadata": {},
   "outputs": [],
   "source": [
    "Data = yf.download(['MSFT','META','AAPL'], start ='2022-01-01')['Adj Close']\n",
    "assets = Data.columns.tolist()\n",
    "print(Data.head())\n",
    "returns = Data.pct_change(1).dropna()\n",
    "cov = np.array(returns.cov())\n",
    "mean = returns.mean()\n",
    "prices = Data.iloc[-1]\n",
    "print(cov.shape)\n",
    "print(cov)\n",
    "print(mean.shape)\n",
    "print(mean.head())\n",
    "print(\"below are the prices\")\n",
    "print(prices.shape)\n",
    "print(prices)"
   ]
  },
  {
   "cell_type": "code",
   "execution_count": null,
   "metadata": {},
   "outputs": [],
   "source": [
    "(Data/Data.iloc[0]).plot()"
   ]
  },
  {
   "cell_type": "code",
   "execution_count": null,
   "metadata": {},
   "outputs": [],
   "source": [
    "iv = [Integer(f'x_{i}', upper_bound=10) for i in range(3)]\n",
    "print(iv)\n",
    "cqm = ConstrainedQuadraticModel()\n",
    "cqm.set_objective(quicksum(quicksum(iv[i]*iv[j]*prices[i]*prices[j]*cov[i,j] for j in range(3)) for i in range(3)))\n",
    "budget = 10000\n",
    "cqm.add_constraint(quicksum(prices[i]*iv[i] for i in range(3)) <=budget)\n",
    "cqm.add_constraint(quicksum(prices[i]*iv[i] for i in range(3))  >= 0.98 * budget)"
   ]
  },
  {
   "cell_type": "code",
   "execution_count": null,
   "metadata": {},
   "outputs": [],
   "source": [
    "cqm_sampler = LeapHybridCQMSampler(token='DEV-9756b9b04acfa6a267f828b5ac3cac123338fa1b')\n",
    "sample_set = cqm_sampler.sample_cqm(cqm,label='investment optimization')\n",
    "print (sample_set)"
   ]
  },
  {
   "cell_type": "code",
   "execution_count": null,
   "metadata": {},
   "outputs": [],
   "source": [
    "a = sample_set.aggregate().record\n",
    "cols  = list(a.dtype.names)\n",
    "b = []\n",
    "\n",
    "for i in range(a.shape[0]):\n",
    "    b.append(list (a[i]))\n",
    "    result = pd.DataFrame(data=b,columns=cols)\n",
    "    result = result.sort_values('energy', ascending= False)\n",
    "\n",
    "    \n",
    "#index_names = result[result['is_feasible'] == False ].index\n",
    "#result.drop(index_names,inplace=True)\n",
    "ans = result['sample'].iloc[-1]\n",
    "\n",
    "optim_weights = ans \n",
    "number_stocks = np.array(list(optim_weights))\n",
    "number_stocks = np.reshape(number_stocks,(number_stocks.shape[0],))\n",
    "print(number_stocks)\n",
    "prices = np.reshape(prices,(prices.shape[0],))\n",
    "optim_weights = np.multiply(number_stocks,prices)\n",
    "optim_weights = optim_weights / np.sum(optim_weights)\n",
    "print(optim_weights)"
   ]
  },
  {
   "cell_type": "code",
   "execution_count": null,
   "metadata": {},
   "outputs": [],
   "source": [
    "plt.pie(list(np.reshape(optim_weights,(-1,))), labels = assets)\n",
    "plt.show()"
   ]
  }
 ],
 "metadata": {
  "kernelspec": {
   "display_name": "Python 3",
   "language": "python",
   "name": "python3"
  },
  "language_info": {
   "codemirror_mode": {
    "name": "ipython",
    "version": 3
   },
   "file_extension": ".py",
   "mimetype": "text/x-python",
   "name": "python",
   "nbconvert_exporter": "python",
   "pygments_lexer": "ipython3",
   "version": "3.10.13"
  }
 },
 "nbformat": 4,
 "nbformat_minor": 2
}
